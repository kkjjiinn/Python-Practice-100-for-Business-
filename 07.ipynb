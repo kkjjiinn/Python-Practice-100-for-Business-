{
 "cells": [
  {
   "cell_type": "markdown",
   "metadata": {},
   "source": [
    "### 운송 최적화"
   ]
  },
  {
   "cell_type": "code",
   "execution_count": 1,
   "metadata": {},
   "outputs": [],
   "source": [
    "import warnings\n",
    "warnings.filterwarnings('ignore')"
   ]
  },
  {
   "cell_type": "code",
   "execution_count": 2,
   "metadata": {},
   "outputs": [],
   "source": [
    "import numpy as np\n",
    "import pandas as pd\n",
    "from itertools import product\n",
    "from pulp import LpVariable, lpSum, value\n",
    "from ortoolpy import model_min, addvars, addvals"
   ]
  },
  {
   "cell_type": "code",
   "execution_count": 8,
   "metadata": {},
   "outputs": [
    {
     "data": {
      "text/html": [
       "<div>\n",
       "<style scoped>\n",
       "    .dataframe tbody tr th:only-of-type {\n",
       "        vertical-align: middle;\n",
       "    }\n",
       "\n",
       "    .dataframe tbody tr th {\n",
       "        vertical-align: top;\n",
       "    }\n",
       "\n",
       "    .dataframe thead th {\n",
       "        text-align: right;\n",
       "    }\n",
       "</style>\n",
       "<table border=\"1\" class=\"dataframe\">\n",
       "  <thead>\n",
       "    <tr style=\"text-align: right;\">\n",
       "      <th></th>\n",
       "      <th>F1</th>\n",
       "      <th>F2</th>\n",
       "      <th>F3</th>\n",
       "      <th>F4</th>\n",
       "    </tr>\n",
       "    <tr>\n",
       "      <th>공장</th>\n",
       "      <th></th>\n",
       "      <th></th>\n",
       "      <th></th>\n",
       "      <th></th>\n",
       "    </tr>\n",
       "  </thead>\n",
       "  <tbody>\n",
       "    <tr>\n",
       "      <th>W1</th>\n",
       "      <td>10</td>\n",
       "      <td>10</td>\n",
       "      <td>11</td>\n",
       "      <td>27</td>\n",
       "    </tr>\n",
       "    <tr>\n",
       "      <th>W2</th>\n",
       "      <td>18</td>\n",
       "      <td>21</td>\n",
       "      <td>12</td>\n",
       "      <td>14</td>\n",
       "    </tr>\n",
       "    <tr>\n",
       "      <th>W3</th>\n",
       "      <td>15</td>\n",
       "      <td>12</td>\n",
       "      <td>14</td>\n",
       "      <td>12</td>\n",
       "    </tr>\n",
       "  </tbody>\n",
       "</table>\n",
       "</div>"
      ],
      "text/plain": [
       "    F1  F2  F3  F4\n",
       "공장                \n",
       "W1  10  10  11  27\n",
       "W2  18  21  12  14\n",
       "W3  15  12  14  12"
      ]
     },
     "execution_count": 8,
     "metadata": {},
     "output_type": "execute_result"
    }
   ],
   "source": [
    "df_tc = pd.read_csv('trans_cost.csv', index_col=\"공장\") # 운송 비용\n",
    "df_tc.head()"
   ]
  },
  {
   "cell_type": "code",
   "execution_count": 9,
   "metadata": {
    "scrolled": true
   },
   "outputs": [
    {
     "data": {
      "text/html": [
       "<div>\n",
       "<style scoped>\n",
       "    .dataframe tbody tr th:only-of-type {\n",
       "        vertical-align: middle;\n",
       "    }\n",
       "\n",
       "    .dataframe tbody tr th {\n",
       "        vertical-align: top;\n",
       "    }\n",
       "\n",
       "    .dataframe thead th {\n",
       "        text-align: right;\n",
       "    }\n",
       "</style>\n",
       "<table border=\"1\" class=\"dataframe\">\n",
       "  <thead>\n",
       "    <tr style=\"text-align: right;\">\n",
       "      <th></th>\n",
       "      <th>F1</th>\n",
       "      <th>F2</th>\n",
       "      <th>F3</th>\n",
       "      <th>F4</th>\n",
       "    </tr>\n",
       "  </thead>\n",
       "  <tbody>\n",
       "    <tr>\n",
       "      <th>0</th>\n",
       "      <td>28</td>\n",
       "      <td>29</td>\n",
       "      <td>31</td>\n",
       "      <td>25</td>\n",
       "    </tr>\n",
       "  </tbody>\n",
       "</table>\n",
       "</div>"
      ],
      "text/plain": [
       "   F1  F2  F3  F4\n",
       "0  28  29  31  25"
      ]
     },
     "execution_count": 9,
     "metadata": {},
     "output_type": "execute_result"
    }
   ],
   "source": [
    "df_demand = pd.read_csv('demand.csv') # 공장의 최소수요\n",
    "df_demand.head()"
   ]
  },
  {
   "cell_type": "code",
   "execution_count": 10,
   "metadata": {},
   "outputs": [
    {
     "data": {
      "text/html": [
       "<div>\n",
       "<style scoped>\n",
       "    .dataframe tbody tr th:only-of-type {\n",
       "        vertical-align: middle;\n",
       "    }\n",
       "\n",
       "    .dataframe tbody tr th {\n",
       "        vertical-align: top;\n",
       "    }\n",
       "\n",
       "    .dataframe thead th {\n",
       "        text-align: right;\n",
       "    }\n",
       "</style>\n",
       "<table border=\"1\" class=\"dataframe\">\n",
       "  <thead>\n",
       "    <tr style=\"text-align: right;\">\n",
       "      <th></th>\n",
       "      <th>W1</th>\n",
       "      <th>W2</th>\n",
       "      <th>W3</th>\n",
       "    </tr>\n",
       "  </thead>\n",
       "  <tbody>\n",
       "    <tr>\n",
       "      <th>0</th>\n",
       "      <td>35</td>\n",
       "      <td>41</td>\n",
       "      <td>42</td>\n",
       "    </tr>\n",
       "  </tbody>\n",
       "</table>\n",
       "</div>"
      ],
      "text/plain": [
       "   W1  W2  W3\n",
       "0  35  41  42"
      ]
     },
     "execution_count": 10,
     "metadata": {},
     "output_type": "execute_result"
    }
   ],
   "source": [
    "df_supply = pd.read_csv('supply.csv') # 창고의 최대 공급량\n",
    "df_supply.head()"
   ]
  },
  {
   "cell_type": "code",
   "execution_count": 7,
   "metadata": {
    "scrolled": true
   },
   "outputs": [
    {
     "name": "stdout",
     "output_type": "stream",
     "text": [
      "    F1  F2  F3  F4\n",
      "공장                \n",
      "W1  28   7   0   0\n",
      "W2   0   0  31   5\n",
      "W3   0  22   0  20\n",
      "총 운송 비용:1296.0\n"
     ]
    }
   ],
   "source": [
    "# 데이터 불러오기\n",
    "df_tc = pd.read_csv('trans_cost.csv', index_col=\"공장\")\n",
    "df_tc.head()\n",
    "df_demand = pd.read_csv('demand.csv')\n",
    "df_demand.head()\n",
    "df_supply = pd.read_csv('supply.csv')\n",
    "\n",
    "# 초기 설정\n",
    "np.random.seed(1)\n",
    "nw = len(df_tc.index) # 창고 개수 : 3\n",
    "nf = len(df_tc.columns) # 공장 개수 : 4\n",
    "pr = list(product(range(nw), range(nf))) # product함수는 W(0~2)와 F(0~3)넘버를 중복없이 짝지음 (0,0)~(2,3)\n",
    "\n",
    "#수리 모델 작성\n",
    "m1 = model_min() # 최소화를 실행하는 모델, 정의하는 목적함수를 제약 조건 하에서 최소화 가능\n",
    "v1 = {(i,j):LpVariable('v%d_%d'%(i,j),lowBound=0) for i,j in pr}\n",
    "m1 += lpSum(df_tc.iloc[i][j]*v1[i,j] for i,j in pr)\n",
    "for i in range(nw): # 창고별 총 공급량 최대 공급량\n",
    "    m1 += lpSum(v1[i,j] for j in range(nf)) <= df_supply.iloc[0][i]\n",
    "for j in range(nf): # 공장별 총 수요량 공장에서 필요하는 최소수요\n",
    "    m1 += lpSum(v1[i,j] for i in range(nw)) >= df_demand.iloc[0][j]\n",
    "# 공장이 제조할 제품 수요량을 만족시키고 창고가 제공할 부품이 제공 한계를 넘지않도록 제약 조건\n",
    "m1.solve()\n",
    "\n",
    "# 총 운송 비용 계산, 최적해(운송비용 최소하는 운송량), 최적값 계산\n",
    "df_tr_sol = df_tc.copy()\n",
    "total_cost = 0\n",
    "for k,x in v1.items():\n",
    "    i,j = k[0],k[1]\n",
    "    df_tr_sol.iloc[i][j] = value(x) # 구해진 최적해(v1)\n",
    "    total_cost += df_tc.iloc[i][j]*value(x) # 최적화 이후 총 비용값(원래비용 * 최적해(v1) = 최적값)\n",
    "print(df_tr_sol)\n",
    "print(\"총 운송 비용:\"+str(total_cost))\n"
   ]
  },
  {
   "cell_type": "markdown",
   "metadata": {},
   "source": [
    "### 최적의 운송 경로를 네트워크 가시화"
   ]
  },
  {
   "cell_type": "code",
   "execution_count": 26,
   "metadata": {
    "scrolled": true
   },
   "outputs": [
    {
     "data": {
      "image/png": "[encoded data removed]",
      "text/plain": [
       "<Figure size 640x480 with 1 Axes>"
      ]
     },
     "metadata": {},
     "output_type": "display_data"
    }
   ],
   "source": [
    "import pandas as pd\n",
    "import numpy as np\n",
    "import matplotlib.pyplot as plt\n",
    "import networkx as nx\n",
    "\n",
    "# 데이터 불러오기\n",
    "df_tr = df_tr_sol.copy()\n",
    "df_pos = pd.read_csv('trans_route_pos.csv')\n",
    "\n",
    "# 객체 생성\n",
    "G = nx.Graph()\n",
    "\n",
    "# 노드 설정\n",
    "for i in range(len(df_pos.columns)):\n",
    "    G.add_node(df_pos.columns[i])\n",
    "\n",
    "# 엣지 설정 & 엣지의 가중치 리스트화\n",
    "for i in range(0, 3):\n",
    "    for j in range(3, len(df_pos.columns)):\n",
    "        G.add_edge(df_pos.columns[i], df_pos.columns[j]) # W - F 를 하나씩 다 연결\n",
    "\n",
    "# 좌표 설정\n",
    "pos = {}\n",
    "for i in range(len(df_pos.columns)):\n",
    "    node = df_pos.columns[i] # 0:W1, 1:W2, 2:W3... 6:F4\n",
    "    pos[node] = (df_pos[node][0],df_pos[node][1]) # df_pos[df_pos.columns[3]][0],df_pos[df_pos.columns[3]][1] = 4.0 0.5\n",
    "\n",
    "    \n",
    "# 가중치 부여\n",
    "sy=[]\n",
    "size=0.1\n",
    "for i in range(len(df_tr.index)): # 3개 0,1,2\n",
    "    for j in range(len(df_tr.columns)): # 4개 0,1,2,3\n",
    "        sy.append(df_tr.iloc[i,j]*size) # df_tr[0,0]*0.1, df_tr[0,1]*size, df_tr[0,2]*size,...df_tr[2,3]\n",
    "\n",
    "\n",
    "\n",
    "\n",
    "# 그리기\n",
    "nx.draw(G, pos, with_labels=True,font_size=16, node_size = 1000, node_color='k', font_color='w', width = sy)\n",
    "\n",
    "# 표시\n",
    "plt.show()"
   ]
  },
  {
   "cell_type": "code",
   "execution_count": 16,
   "metadata": {},
   "outputs": [
    {
     "data": {
      "text/html": [
       "<div>\n",
       "<style scoped>\n",
       "    .dataframe tbody tr th:only-of-type {\n",
       "        vertical-align: middle;\n",
       "    }\n",
       "\n",
       "    .dataframe tbody tr th {\n",
       "        vertical-align: top;\n",
       "    }\n",
       "\n",
       "    .dataframe thead th {\n",
       "        text-align: right;\n",
       "    }\n",
       "</style>\n",
       "<table border=\"1\" class=\"dataframe\">\n",
       "  <thead>\n",
       "    <tr style=\"text-align: right;\">\n",
       "      <th></th>\n",
       "      <th>W1</th>\n",
       "      <th>W2</th>\n",
       "      <th>W3</th>\n",
       "      <th>F1</th>\n",
       "      <th>F2</th>\n",
       "      <th>F3</th>\n",
       "      <th>F4</th>\n",
       "    </tr>\n",
       "  </thead>\n",
       "  <tbody>\n",
       "    <tr>\n",
       "      <th>0</th>\n",
       "      <td>0</td>\n",
       "      <td>0</td>\n",
       "      <td>0</td>\n",
       "      <td>4.0</td>\n",
       "      <td>4.0</td>\n",
       "      <td>4.0</td>\n",
       "      <td>4.0</td>\n",
       "    </tr>\n",
       "    <tr>\n",
       "      <th>1</th>\n",
       "      <td>1</td>\n",
       "      <td>2</td>\n",
       "      <td>3</td>\n",
       "      <td>0.5</td>\n",
       "      <td>1.5</td>\n",
       "      <td>2.5</td>\n",
       "      <td>3.5</td>\n",
       "    </tr>\n",
       "  </tbody>\n",
       "</table>\n",
       "</div>"
      ],
      "text/plain": [
       "   W1  W2  W3   F1   F2   F3   F4\n",
       "0   0   0   0  4.0  4.0  4.0  4.0\n",
       "1   1   2   3  0.5  1.5  2.5  3.5"
      ]
     },
     "execution_count": 16,
     "metadata": {},
     "output_type": "execute_result"
    }
   ],
   "source": [
    "df_pos.head()"
   ]
  },
  {
   "cell_type": "code",
   "execution_count": 25,
   "metadata": {},
   "outputs": [
    {
     "name": "stdout",
     "output_type": "stream",
     "text": [
      "4.0 0.5\n"
     ]
    }
   ],
   "source": [
    "print(df_pos[df_pos.columns[3]][0],df_pos[df_pos.columns[3]][1])"
   ]
  },
  {
   "cell_type": "code",
   "execution_count": 32,
   "metadata": {},
   "outputs": [
    {
     "name": "stdout",
     "output_type": "stream",
     "text": [
      "20\n"
     ]
    }
   ],
   "source": [
    "print(df_tr.iloc[2,3])"
   ]
  },
  {
   "cell_type": "markdown",
   "metadata": {},
   "source": [
    "### 최적 운송 경로가 제약 조건을 만족하는지 확인"
   ]
  },
  {
   "cell_type": "code",
   "execution_count": 33,
   "metadata": {},
   "outputs": [
    {
     "name": "stdout",
     "output_type": "stream",
     "text": [
      "수요 조건 계산 결과:[1. 1. 1. 1.]\n",
      "공급 조건 계산 결과:[1. 1. 1.]\n"
     ]
    }
   ],
   "source": [
    "import pandas as pd\n",
    "import numpy as np\n",
    "\n",
    "# 데이터 불러오기\n",
    "df_demand = pd.read_csv('demand.csv')\n",
    "df_supply = pd.read_csv('supply.csv')\n",
    "\n",
    "# 제약조건 계산함수\n",
    "# 수요측\n",
    "def condition_demand(df_tr,df_demand):\n",
    "    flag = np.zeros(len(df_demand.columns))\n",
    "    for i in range(len(df_demand.columns)): # 0,1,2,3\n",
    "        temp_sum = sum(df_tr[df_demand.columns[i]]) # df_tr 1,2,3열 다 더함\n",
    "        if (temp_sum>=df_demand.iloc[0][i]):\n",
    "            flag[i] = 1\n",
    "    return flag\n",
    "            \n",
    "# 공급측\n",
    "def condition_supply(df_tr,df_supply):\n",
    "    flag = np.zeros(len(df_supply.columns))\n",
    "    for i in range(len(df_supply.columns)):\n",
    "        temp_sum = sum(df_tr.loc[df_supply.columns[i]])\n",
    "        if temp_sum<=df_supply.iloc[0][i]:\n",
    "            flag[i] = 1\n",
    "    return flag\n",
    "\n",
    "print(\"수요 조건 계산 결과:\"+str(condition_demand(df_tr_sol,df_demand)))\n",
    "print(\"공급 조건 계산 결과:\"+str(condition_supply(df_tr_sol,df_supply)))"
   ]
  },
  {
   "cell_type": "code",
   "execution_count": 38,
   "metadata": {},
   "outputs": [
    {
     "name": "stdout",
     "output_type": "stream",
     "text": [
      "25\n"
     ]
    }
   ],
   "source": [
    "print(df_demand.iloc[0][3])"
   ]
  },
  {
   "cell_type": "code",
   "execution_count": 39,
   "metadata": {},
   "outputs": [
    {
     "data": {
      "text/html": [
       "<div>\n",
       "<style scoped>\n",
       "    .dataframe tbody tr th:only-of-type {\n",
       "        vertical-align: middle;\n",
       "    }\n",
       "\n",
       "    .dataframe tbody tr th {\n",
       "        vertical-align: top;\n",
       "    }\n",
       "\n",
       "    .dataframe thead th {\n",
       "        text-align: right;\n",
       "    }\n",
       "</style>\n",
       "<table border=\"1\" class=\"dataframe\">\n",
       "  <thead>\n",
       "    <tr style=\"text-align: right;\">\n",
       "      <th></th>\n",
       "      <th>F1</th>\n",
       "      <th>F2</th>\n",
       "      <th>F3</th>\n",
       "      <th>F4</th>\n",
       "    </tr>\n",
       "  </thead>\n",
       "  <tbody>\n",
       "    <tr>\n",
       "      <th>0</th>\n",
       "      <td>28</td>\n",
       "      <td>29</td>\n",
       "      <td>31</td>\n",
       "      <td>25</td>\n",
       "    </tr>\n",
       "  </tbody>\n",
       "</table>\n",
       "</div>"
      ],
      "text/plain": [
       "   F1  F2  F3  F4\n",
       "0  28  29  31  25"
      ]
     },
     "execution_count": 39,
     "metadata": {},
     "output_type": "execute_result"
    }
   ],
   "source": [
    "df_demand.head()"
   ]
  },
  {
   "cell_type": "markdown",
   "metadata": {},
   "source": [
    "### 생산 계획 데이터 불러오기"
   ]
  },
  {
   "cell_type": "code",
   "execution_count": 58,
   "metadata": {},
   "outputs": [
    {
     "name": "stdout",
     "output_type": "stream",
     "text": [
      "     원료1  원료2  원료3\n",
      "제품                \n",
      "제품1    1    4    3\n",
      "제품2    2    4    1\n",
      "      이익\n",
      "제품      \n",
      "제품1  5.0\n",
      "제품2  4.0\n",
      "    원료1  원료2  원료3\n",
      "항목               \n",
      "재고   40   80   50\n",
      "      생산량\n",
      "제품       \n",
      "제품1    16\n",
      "제품2     0\n"
     ]
    }
   ],
   "source": [
    "import pandas as pd\n",
    "\n",
    "df_material = pd.read_csv('product_plan_material.csv', index_col=\"제품\")\n",
    "print(df_material) # 3종류 원료의 비율 ex 제품1에 들어간 원료1,2,3이 1:4:3(개)\n",
    "df_profit = pd.read_csv('product_plan_profit.csv', index_col=\"제품\")\n",
    "print(df_profit) # 판매가격 - 판매원가\n",
    "df_stock = pd.read_csv('product_plan_stock.csv', index_col=\"항목\")\n",
    "print(df_stock) # 각 원료의 재고\n",
    "df_plan = pd.read_csv('product_plan.csv', index_col=\"제품\")\n",
    "print(df_plan) # 제품의 생산량"
   ]
  },
  {
   "cell_type": "markdown",
   "metadata": {},
   "source": [
    "### 이익을 계산하는 함수"
   ]
  },
  {
   "cell_type": "code",
   "execution_count": 48,
   "metadata": {},
   "outputs": [
    {
     "name": "stdout",
     "output_type": "stream",
     "text": [
      "총 이익:80.0\n"
     ]
    }
   ],
   "source": [
    "def product_plan(df_profit,df_plan):\n",
    "    profit=0\n",
    "    for i in range(len(df_profit.index)):#0,1\n",
    "        for j in range(len(df_plan.columns)):#1개\n",
    "            profit += df_profit.iloc[i][j]*df_plan.iloc[i][j]\n",
    "        return profit\n",
    "print(\"총 이익:\"+str(product_plan(df_profit,df_plan)))\n",
    "#제품 1만 계산한 것"
   ]
  },
  {
   "cell_type": "markdown",
   "metadata": {},
   "source": [
    "### 목적함수와 제약함수를 통한 최적값찾기"
   ]
  },
  {
   "cell_type": "code",
   "execution_count": 78,
   "metadata": {},
   "outputs": [
    {
     "name": "stdout",
     "output_type": "stream",
     "text": [
      "      생산량\n",
      "제품       \n",
      "제품1    15\n",
      "제품2     5\n",
      "총 이익:95.0\n"
     ]
    }
   ],
   "source": [
    "# import pandas as pd\n",
    "# from pulp import LpVariable, lpSum, value\n",
    "# from ortoolpy import model_max, addvars, addvals\n",
    "\n",
    "\n",
    "# m2 = model_max() # 목적함수 - 이익 최대화가 목적\n",
    "# v2 = {(i) : LpVariable('v%d'%(i), lowBound = 0) for i in range(len(df_profit))}\n",
    "# print(v2)\n",
    "\n",
    "# #m2에 제약조건을 추가\n",
    "\n",
    "# # 각 제품별 이익*생산량\n",
    "# m2 += lpSum(df_profit.iloc[i] * v2[i] for i in range(len(df_profit)))\n",
    "\n",
    "# # 제약 조건\n",
    "# for j in range(len(df_material.columns)): # j: 원료 0,1,2 / i: 제품 0,1\n",
    "#     m2 += lpSum(df_material.iloc[i,j] * v2[i] for i in range(len(df_profit))) <= df_stock.iloc[:,i]\n",
    "#     # 제약 조건: 각 제품에 필요한 생산량*원료합 <= 최대 원료 재고량\n",
    "# m2.solve() # 최적해 구해\n",
    "\n",
    "# df_plan_sol = df_plan.copy()\n",
    "# display(df_plan_sol) # 원래 생산계획\n",
    "\n",
    "# for k, x in v2.items():\n",
    "#     df_plan_sol.iloc[k] = value(x) # v2 최적해\n",
    "# display(df_plan_sol) # 최적으로 찾아낸 생산계획 (생산량)\n",
    "\n",
    "import pandas as pd\n",
    "from pulp import LpVariable, lpSum, value\n",
    "from ortoolpy import model_max, addvars, addvals\n",
    "\n",
    "\n",
    "df = df_material.copy()\n",
    "inv = df_stock\n",
    "\n",
    "m = model_max()\n",
    "v1 = {(i):LpVariable('v%d'%(i),lowBound=0) for i in range(len(df_profit))}\n",
    "m += lpSum(df_profit.iloc[i]*v1[i] for i in range(len(df_profit))) # i:0,1\n",
    "for i in range(len(df_material.columns)):# 0,1,2\n",
    "    m += lpSum(df_material.iloc[j,i]*v1[j] for j in range(len(df_profit)) ) <= df_stock.iloc[:,i]# stock:40,80,50\n",
    "m.solve()\n",
    "# \n",
    "df_plan_sol = df_plan.copy()\n",
    "for k,x in v1.items():\n",
    "    df_plan_sol.iloc[k] = value(x)\n",
    "print(df_plan_sol)\n",
    "print(\"총 이익:\"+str(value(m.objective)))"
   ]
  },
  {
   "cell_type": "code",
   "execution_count": 90,
   "metadata": {},
   "outputs": [
    {
     "name": "stdout",
     "output_type": "stream",
     "text": [
      "1\n"
     ]
    }
   ],
   "source": [
    "print(df_material.iloc[0,0])"
   ]
  },
  {
   "cell_type": "markdown",
   "metadata": {},
   "source": [
    "### 최적의 조건이 제약조건을 만족하나?"
   ]
  },
  {
   "cell_type": "code",
   "execution_count": 91,
   "metadata": {},
   "outputs": [
    {
     "data": {
      "text/html": [
       "<div>\n",
       "<style scoped>\n",
       "    .dataframe tbody tr th:only-of-type {\n",
       "        vertical-align: middle;\n",
       "    }\n",
       "\n",
       "    .dataframe tbody tr th {\n",
       "        vertical-align: top;\n",
       "    }\n",
       "\n",
       "    .dataframe thead th {\n",
       "        text-align: right;\n",
       "    }\n",
       "</style>\n",
       "<table border=\"1\" class=\"dataframe\">\n",
       "  <thead>\n",
       "    <tr style=\"text-align: right;\">\n",
       "      <th></th>\n",
       "      <th>원료1</th>\n",
       "      <th>원료2</th>\n",
       "      <th>원료3</th>\n",
       "    </tr>\n",
       "    <tr>\n",
       "      <th>제품</th>\n",
       "      <th></th>\n",
       "      <th></th>\n",
       "      <th></th>\n",
       "    </tr>\n",
       "  </thead>\n",
       "  <tbody>\n",
       "    <tr>\n",
       "      <th>제품1</th>\n",
       "      <td>1</td>\n",
       "      <td>4</td>\n",
       "      <td>3</td>\n",
       "    </tr>\n",
       "    <tr>\n",
       "      <th>제품2</th>\n",
       "      <td>2</td>\n",
       "      <td>4</td>\n",
       "      <td>1</td>\n",
       "    </tr>\n",
       "  </tbody>\n",
       "</table>\n",
       "</div>"
      ],
      "text/plain": [
       "     원료1  원료2  원료3\n",
       "제품                \n",
       "제품1    1    4    3\n",
       "제품2    2    4    1"
      ]
     },
     "metadata": {},
     "output_type": "display_data"
    },
    {
     "data": {
      "text/html": [
       "<div>\n",
       "<style scoped>\n",
       "    .dataframe tbody tr th:only-of-type {\n",
       "        vertical-align: middle;\n",
       "    }\n",
       "\n",
       "    .dataframe tbody tr th {\n",
       "        vertical-align: top;\n",
       "    }\n",
       "\n",
       "    .dataframe thead th {\n",
       "        text-align: right;\n",
       "    }\n",
       "</style>\n",
       "<table border=\"1\" class=\"dataframe\">\n",
       "  <thead>\n",
       "    <tr style=\"text-align: right;\">\n",
       "      <th></th>\n",
       "      <th>원료1</th>\n",
       "      <th>원료2</th>\n",
       "      <th>원료3</th>\n",
       "    </tr>\n",
       "    <tr>\n",
       "      <th>항목</th>\n",
       "      <th></th>\n",
       "      <th></th>\n",
       "      <th></th>\n",
       "    </tr>\n",
       "  </thead>\n",
       "  <tbody>\n",
       "    <tr>\n",
       "      <th>재고</th>\n",
       "      <td>40</td>\n",
       "      <td>80</td>\n",
       "      <td>50</td>\n",
       "    </tr>\n",
       "  </tbody>\n",
       "</table>\n",
       "</div>"
      ],
      "text/plain": [
       "    원료1  원료2  원료3\n",
       "항목               \n",
       "재고   40   80   50"
      ]
     },
     "metadata": {},
     "output_type": "display_data"
    },
    {
     "data": {
      "text/html": [
       "<div>\n",
       "<style scoped>\n",
       "    .dataframe tbody tr th:only-of-type {\n",
       "        vertical-align: middle;\n",
       "    }\n",
       "\n",
       "    .dataframe tbody tr th {\n",
       "        vertical-align: top;\n",
       "    }\n",
       "\n",
       "    .dataframe thead th {\n",
       "        text-align: right;\n",
       "    }\n",
       "</style>\n",
       "<table border=\"1\" class=\"dataframe\">\n",
       "  <thead>\n",
       "    <tr style=\"text-align: right;\">\n",
       "      <th></th>\n",
       "      <th>생산량</th>\n",
       "    </tr>\n",
       "    <tr>\n",
       "      <th>제품</th>\n",
       "      <th></th>\n",
       "    </tr>\n",
       "  </thead>\n",
       "  <tbody>\n",
       "    <tr>\n",
       "      <th>제품1</th>\n",
       "      <td>16</td>\n",
       "    </tr>\n",
       "    <tr>\n",
       "      <th>제품2</th>\n",
       "      <td>0</td>\n",
       "    </tr>\n",
       "  </tbody>\n",
       "</table>\n",
       "</div>"
      ],
      "text/plain": [
       "      생산량\n",
       "제품       \n",
       "제품1    16\n",
       "제품2     0"
      ]
     },
     "metadata": {},
     "output_type": "display_data"
    }
   ],
   "source": [
    "display(df_material, df_stock, df_plan) # df_m : 제품에 사용되는 원료비율, df_s:원료 재고량, df_plan:현재 제품 생산량"
   ]
  },
  {
   "cell_type": "code",
   "execution_count": 95,
   "metadata": {},
   "outputs": [
    {
     "name": "stdout",
     "output_type": "stream",
     "text": [
      "원료1 사용량: 16.0, 재고:40.0\n",
      "원료2 사용량: 64.0, 재고:80.0\n",
      "원료3 사용량: 48.0, 재고:50.0\n"
     ]
    },
    {
     "data": {
      "text/plain": [
       "array([1., 1., 1.])"
      ]
     },
     "execution_count": 95,
     "metadata": {},
     "output_type": "execute_result"
    }
   ],
   "source": [
    "# 제약조건으로 규정한 각 원료의 사용량이 재고를 효율적으로 이용하고 있나\n",
    "\n",
    "def cond_stock(df_plan, df_material, df_stock):\n",
    "    flag = np.zeros(len(df_material.columns)) # 초기값\n",
    "    \n",
    "    for i in range(len(df_material.columns)): # i: 원료(0,1,2)\n",
    "        temp_sum = 0\n",
    "        for j in range(len(df_material.index)): #j : 제품(0,1)\n",
    "            # 각 원료에 대해 제품의 생산량*사용량 => temp_sum: 각 원료 총 사용량\n",
    "            temp_sum = temp_sum + df_material.iloc[j][i] * float(df_plan.iloc[j])\n",
    "        if (temp_sum <= float(df_stock.iloc[0][i])):\n",
    "            flag[i] = 1\n",
    "        print(df_material.columns[i] + ' 사용량: ' + str(temp_sum) + ', 재고:' + str(float(df_stock.iloc[0][i])))\n",
    "    return flag\n",
    "            \n",
    "cond_stock(df_plan, df_material, df_stock)       "
   ]
  },
  {
   "cell_type": "code",
   "execution_count": 92,
   "metadata": {},
   "outputs": [
    {
     "name": "stdout",
     "output_type": "stream",
     "text": [
      "3\n"
     ]
    }
   ],
   "source": [
    "print(len(df_material.columns))"
   ]
  },
  {
   "cell_type": "code",
   "execution_count": null,
   "metadata": {},
   "outputs": [],
   "source": []
  },
  {
   "cell_type": "code",
   "execution_count": null,
   "metadata": {},
   "outputs": [],
   "source": []
  },
  {
   "cell_type": "code",
   "execution_count": null,
   "metadata": {},
   "outputs": [],
   "source": []
  },
  {
   "cell_type": "code",
   "execution_count": null,
   "metadata": {},
   "outputs": [],
   "source": []
  }
 ],
 "metadata": {
  "kernelspec": {
   "display_name": "Python 3 (ipykernel)",
   "language": "python",
   "name": "python3"
  },
  "language_info": {
   "codemirror_mode": {
    "name": "ipython",
    "version": 3
   },
   "file_extension": ".py",
   "mimetype": "text/x-python",
   "name": "python",
   "nbconvert_exporter": "python",
   "pygments_lexer": "ipython3",
   "version": "3.9.13"
  }
 },
 "nbformat": 4,
 "nbformat_minor": 4
}
